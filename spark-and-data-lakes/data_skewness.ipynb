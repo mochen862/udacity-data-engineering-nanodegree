{
 "cells": [
  {
   "cell_type": "code",
   "execution_count": 14,
   "id": "30900c69",
   "metadata": {},
   "outputs": [],
   "source": [
    "from pyspark.sql import SparkSession\n",
    "from pyspark.sql.functions import asc, desc"
   ]
  },
  {
   "cell_type": "markdown",
   "id": "d9662ce2",
   "metadata": {},
   "source": [
    "# Create spark session"
   ]
  },
  {
   "cell_type": "code",
   "execution_count": 2,
   "id": "b08b57de",
   "metadata": {},
   "outputs": [
    {
     "name": "stdout",
     "output_type": "stream",
     "text": [
      "22/10/10 16:10:54 WARN Utils: Your hostname, Mos-MacBook-Pro.local resolves to a loopback address: 127.0.0.1; using 192.168.1.249 instead (on interface en0)\n",
      "22/10/10 16:10:54 WARN Utils: Set SPARK_LOCAL_IP if you need to bind to another address\n"
     ]
    },
    {
     "name": "stderr",
     "output_type": "stream",
     "text": [
      "Setting default log level to \"WARN\".\n",
      "To adjust logging level use sc.setLogLevel(newLevel). For SparkR, use setLogLevel(newLevel).\n"
     ]
    },
    {
     "name": "stdout",
     "output_type": "stream",
     "text": [
      "22/10/10 16:10:54 WARN NativeCodeLoader: Unable to load native-hadoop library for your platform... using builtin-java classes where applicable\n",
      "22/10/10 16:10:55 WARN Utils: Service 'SparkUI' could not bind on port 4040. Attempting port 4041.\n",
      "22/10/10 16:10:55 WARN Utils: Service 'SparkUI' could not bind on port 4041. Attempting port 4042.\n"
     ]
    }
   ],
   "source": [
    "spark = SparkSession.builder.appName('data skewness').getOrCreate()"
   ]
  },
  {
   "cell_type": "markdown",
   "id": "62a85aea",
   "metadata": {},
   "source": [
    "# Read csv file"
   ]
  },
  {
   "cell_type": "code",
   "execution_count": 3,
   "id": "23cdbd4e",
   "metadata": {},
   "outputs": [],
   "source": [
    "df = spark.read.csv('parking_violation.csv', header=True)"
   ]
  },
  {
   "cell_type": "code",
   "execution_count": 6,
   "id": "a4edacd3",
   "metadata": {},
   "outputs": [
    {
     "data": {
      "text/plain": [
       "['_c0',\n",
       " 'Summons_Number',\n",
       " 'Plate_ID',\n",
       " 'Registration_State',\n",
       " 'Plate_Type',\n",
       " 'Issue_Date',\n",
       " 'Violation_Code',\n",
       " 'Vehicle_Body_Type',\n",
       " 'Vehicle_Make',\n",
       " 'Issuing_Agency',\n",
       " 'Street_Code1',\n",
       " 'Street_Code2',\n",
       " 'Street_Code3',\n",
       " 'Vehicle_Expiration_Date',\n",
       " 'Violation_Location',\n",
       " 'Violation_Precinct',\n",
       " 'Issuer_Precinct',\n",
       " 'Issuer_Code',\n",
       " 'Issuer_Command',\n",
       " 'Issuer_Squad',\n",
       " 'Violation_Time',\n",
       " 'Time_First_Observed',\n",
       " 'Violation_County',\n",
       " 'Violation_In_Front_Of_Or_Opposite',\n",
       " 'House_Number',\n",
       " 'Street_Name',\n",
       " 'Intersecting_Street',\n",
       " 'Date_First_Observed',\n",
       " 'Law_Section',\n",
       " 'Sub_Division',\n",
       " 'Violation_Legal_Code',\n",
       " 'Days_Parking_In_Effect____',\n",
       " 'From_Hours_In_Effect',\n",
       " 'To_Hours_In_Effect',\n",
       " 'Vehicle_Color',\n",
       " 'Unregistered_Vehicle?',\n",
       " 'Vehicle_Year',\n",
       " 'Meter_Number',\n",
       " 'Feet_From_Curb',\n",
       " 'Violation_Post_Code',\n",
       " 'Violation_Description',\n",
       " 'No_Standing_or_Stopping_Violation',\n",
       " 'Hydrant_Violation',\n",
       " 'Double_Parking_Violation',\n",
       " 'Latitude',\n",
       " 'Longitude',\n",
       " 'Community_Board',\n",
       " 'Community_Council_',\n",
       " 'Census_Tract',\n",
       " 'BIN',\n",
       " 'BBL',\n",
       " 'NTA',\n",
       " 'year',\n",
       " 'month']"
      ]
     },
     "execution_count": 6,
     "metadata": {},
     "output_type": "execute_result"
    }
   ],
   "source": [
    "df.columns"
   ]
  },
  {
   "cell_type": "markdown",
   "id": "cc2cf4c9",
   "metadata": {},
   "source": [
    "# Group by year"
   ]
  },
  {
   "cell_type": "code",
   "execution_count": 15,
   "id": "46b020fe",
   "metadata": {},
   "outputs": [
    {
     "name": "stderr",
     "output_type": "stream",
     "text": [
      "[Stage 18:=======================================>                (17 + 7) / 24]\r"
     ]
    },
    {
     "name": "stdout",
     "output_type": "stream",
     "text": [
      "+----+-------+\n",
      "|year|  count|\n",
      "+----+-------+\n",
      "|2015|5986831|\n",
      "|2014|5821043|\n",
      "|2013|    592|\n",
      "|2000|    261|\n",
      "|2012|    189|\n",
      "|2011|    122|\n",
      "|2010|    110|\n",
      "|2004|     22|\n",
      "|2001|     22|\n",
      "|2005|     14|\n",
      "|2008|      6|\n",
      "|2007|      3|\n",
      "|2003|      3|\n",
      "|2006|      3|\n",
      "|2002|      3|\n",
      "|2009|      3|\n",
      "|1988|      3|\n",
      "|1991|      1|\n",
      "|1985|      1|\n",
      "|1986|      1|\n",
      "+----+-------+\n",
      "\n"
     ]
    },
    {
     "name": "stderr",
     "output_type": "stream",
     "text": [
      "\r",
      "                                                                                \r"
     ]
    }
   ],
   "source": [
    "df.groupby('year').count().sort(desc('count')).show()"
   ]
  },
  {
   "cell_type": "markdown",
   "id": "95e53516",
   "metadata": {},
   "source": [
    "# Group by month"
   ]
  },
  {
   "cell_type": "code",
   "execution_count": 16,
   "id": "ef0fddfb",
   "metadata": {},
   "outputs": [
    {
     "name": "stderr",
     "output_type": "stream",
     "text": [
      "[Stage 21:=======================================>                (17 + 7) / 24]\r"
     ]
    },
    {
     "name": "stdout",
     "output_type": "stream",
     "text": [
      "+-----+-------+\n",
      "|month|  count|\n",
      "+-----+-------+\n",
      "|    1|1392992|\n",
      "|    6|1276592|\n",
      "|    5|1040148|\n",
      "|    9|1029583|\n",
      "|    7| 969938|\n",
      "|   10| 966456|\n",
      "|    3| 965119|\n",
      "|    4| 951716|\n",
      "|    8| 911641|\n",
      "|   11| 798897|\n",
      "|   12| 774287|\n",
      "|    2| 731864|\n",
      "+-----+-------+\n",
      "\n"
     ]
    },
    {
     "name": "stderr",
     "output_type": "stream",
     "text": [
      "\r",
      "[Stage 21:=====================================================>  (23 + 1) / 24]\r",
      "\r",
      "                                                                                \r"
     ]
    }
   ],
   "source": [
    "df.groupby('month').count().sort(desc('count')).show()"
   ]
  },
  {
   "cell_type": "markdown",
   "id": "d2e9d1ea",
   "metadata": {},
   "source": [
    "# Write out partitioned file"
   ]
  },
  {
   "cell_type": "code",
   "execution_count": 20,
   "id": "42508a41",
   "metadata": {},
   "outputs": [
    {
     "name": "stdout",
     "output_type": "stream",
     "text": [
      "22/10/10 16:17:50 WARN CSVHeaderChecker: CSV header does not conform to the schema.\n",
      " Header: , Summons_Number, Plate_ID, Registration_State, Plate_Type, Issue_Date, Violation_Code, Vehicle_Body_Type, Vehicle_Make, Issuing_Agency, Street_Code1, Street_Code2, Street_Code3, Vehicle_Expiration_Date, Violation_Location, Violation_Precinct, Issuer_Precinct, Issuer_Code, Issuer_Command, Issuer_Squad, Violation_Time, Time_First_Observed, Violation_County, Violation_In_Front_Of_Or_Opposite, House_Number, Street_Name, Intersecting_Street, Date_First_Observed, Law_Section, Sub_Division, Violation_Legal_Code, Days_Parking_In_Effect____, From_Hours_In_Effect, To_Hours_In_Effect, Vehicle_Color, Unregistered_Vehicle?, Vehicle_Year, Meter_Number, Feet_From_Curb, Violation_Post_Code, Violation_Description, No_Standing_or_Stopping_Violation, Hydrant_Violation, Double_Parking_Violation, Latitude, Longitude, Community_Board, Community_Council_, Census_Tract, BIN, BBL, NTA, year, month\n",
      " Schema: _c0, Summons_Number, Plate_ID, Registration_State, Plate_Type, Issue_Date, Violation_Code, Vehicle_Body_Type, Vehicle_Make, Issuing_Agency, Street_Code1, Street_Code2, Street_Code3, Vehicle_Expiration_Date, Violation_Location, Violation_Precinct, Issuer_Precinct, Issuer_Code, Issuer_Command, Issuer_Squad, Violation_Time, Time_First_Observed, Violation_County, Violation_In_Front_Of_Or_Opposite, House_Number, Street_Name, Intersecting_Street, Date_First_Observed, Law_Section, Sub_Division, Violation_Legal_Code, Days_Parking_In_Effect____, From_Hours_In_Effect, To_Hours_In_Effect, Vehicle_Color, Unregistered_Vehicle?, Vehicle_Year, Meter_Number, Feet_From_Curb, Violation_Post_Code, Violation_Description, No_Standing_or_Stopping_Violation, Hydrant_Violation, Double_Parking_Violation, Latitude, Longitude, Community_Board, Community_Council_, Census_Tract, BIN, BBL, NTA, year, month\n",
      "Expected: _c0 but found: \n",
      "CSV file: file:///Users/mochen/Documents/udacity/spark_and_data_lakes/parking_violation.csv\n"
     ]
    },
    {
     "name": "stderr",
     "output_type": "stream",
     "text": [
      "                                                                                \r"
     ]
    }
   ],
   "source": [
    "df.write.partitionBy('year').csv('parking_partition')"
   ]
  },
  {
   "cell_type": "markdown",
   "id": "ffadf8a6",
   "metadata": {},
   "source": [
    "# Repartition"
   ]
  },
  {
   "cell_type": "code",
   "execution_count": 21,
   "id": "8ce0e690",
   "metadata": {},
   "outputs": [
    {
     "name": "stdout",
     "output_type": "stream",
     "text": [
      "22/10/10 16:19:25 WARN CSVHeaderChecker: CSV header does not conform to the schema.\n",
      " Header: , Summons_Number, Plate_ID, Registration_State, Plate_Type, Issue_Date, Violation_Code, Vehicle_Body_Type, Vehicle_Make, Issuing_Agency, Street_Code1, Street_Code2, Street_Code3, Vehicle_Expiration_Date, Violation_Location, Violation_Precinct, Issuer_Precinct, Issuer_Code, Issuer_Command, Issuer_Squad, Violation_Time, Time_First_Observed, Violation_County, Violation_In_Front_Of_Or_Opposite, House_Number, Street_Name, Intersecting_Street, Date_First_Observed, Law_Section, Sub_Division, Violation_Legal_Code, Days_Parking_In_Effect____, From_Hours_In_Effect, To_Hours_In_Effect, Vehicle_Color, Unregistered_Vehicle?, Vehicle_Year, Meter_Number, Feet_From_Curb, Violation_Post_Code, Violation_Description, No_Standing_or_Stopping_Violation, Hydrant_Violation, Double_Parking_Violation, Latitude, Longitude, Community_Board, Community_Council_, Census_Tract, BIN, BBL, NTA, year, month\n",
      " Schema: _c0, Summons_Number, Plate_ID, Registration_State, Plate_Type, Issue_Date, Violation_Code, Vehicle_Body_Type, Vehicle_Make, Issuing_Agency, Street_Code1, Street_Code2, Street_Code3, Vehicle_Expiration_Date, Violation_Location, Violation_Precinct, Issuer_Precinct, Issuer_Code, Issuer_Command, Issuer_Squad, Violation_Time, Time_First_Observed, Violation_County, Violation_In_Front_Of_Or_Opposite, House_Number, Street_Name, Intersecting_Street, Date_First_Observed, Law_Section, Sub_Division, Violation_Legal_Code, Days_Parking_In_Effect____, From_Hours_In_Effect, To_Hours_In_Effect, Vehicle_Color, Unregistered_Vehicle?, Vehicle_Year, Meter_Number, Feet_From_Curb, Violation_Post_Code, Violation_Description, No_Standing_or_Stopping_Violation, Hydrant_Violation, Double_Parking_Violation, Latitude, Longitude, Community_Board, Community_Council_, Census_Tract, BIN, BBL, NTA, year, month\n",
      "Expected: _c0 but found: \n",
      "CSV file: file:///Users/mochen/Documents/udacity/spark_and_data_lakes/parking_violation.csv\n"
     ]
    },
    {
     "name": "stderr",
     "output_type": "stream",
     "text": [
      "                                                                                \r"
     ]
    }
   ],
   "source": [
    "df.repartition(2).write.csv('parking_repartition')"
   ]
  }
 ],
 "metadata": {
  "kernelspec": {
   "display_name": "Python 3 (ipykernel)",
   "language": "python",
   "name": "python3"
  },
  "language_info": {
   "codemirror_mode": {
    "name": "ipython",
    "version": 3
   },
   "file_extension": ".py",
   "mimetype": "text/x-python",
   "name": "python",
   "nbconvert_exporter": "python",
   "pygments_lexer": "ipython3",
   "version": "3.9.7"
  }
 },
 "nbformat": 4,
 "nbformat_minor": 5
}
